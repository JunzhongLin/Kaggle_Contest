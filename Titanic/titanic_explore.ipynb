{
 "cells": [
  {
   "cell_type": "markdown",
   "id": "77a63ffc",
   "metadata": {},
   "source": [
    "# Titanic \n",
    "\n",
    "## Project Description\n",
    "\n",
    "### Overview\n",
    "---\n",
    "The data has been split into two groups:\n",
    "\n",
    "training set (train.csv)\n",
    "test set (test.csv)\n",
    "The training set should be used to build your machine learning models. For the training set, we provide the outcome (also known as the “ground truth”) for each passenger. Your model will be based on “features” like passengers’ gender and class. You can also use feature engineering to create new features.\n",
    "\n",
    "The test set should be used to see how well your model performs on unseen data. For the test set, we do not provide the ground truth for each passenger. It is your job to predict these outcomes. For each passenger in the test set, use the model you trained to predict whether or not they survived the sinking of the Titanic.\n",
    "\n",
    "We also include gender_submission.csv, a set of predictions that assume all and only female passengers survive, as an example of what a submission file should look like.\n",
    "\n",
    "### Description of  features within dataset \n",
    "---\n",
    "| Variable | Definition | Key |\n",
    "|---|---|---|\n",
    "|survival | Survival | 0 = No, 1 = Yes\n",
    "|pclass\t| Ticket class\t| 1 = 1st, 2 = 2nd, 3 = 3rd\n",
    "|sex\t| Sex |\n",
    "|Age\t| Age in years |\t\n",
    "|sibsp\t| # of siblings / spouses aboard the Titanic |\t\n",
    "|parch\t| # of parents / children aboard the Titanic |\t\n",
    "|ticket\t| Ticket number\t|\n",
    "|fare\t| Passenger fare |\t\n",
    "|cabin\t| Cabin number |\t\n",
    "|embarked |\tPort of Embarkation | C = Cherbourg, Q = Queenstown, S = Southampton\n",
    "\n",
    "### Variable Notes\n",
    "---\n",
    "pclass: A proxy for socio-economic status (SES)\n",
    "1st = Upper\n",
    "2nd = Middle\n",
    "3rd = Lower\n",
    "\n",
    "age: Age is fractional if less than 1. If the age is estimated, is it in the form of xx.5\n",
    "\n",
    "sibsp: The dataset defines family relations in this way...\n",
    "Sibling = brother, sister, stepbrother, stepsister\n",
    "Spouse = husband, wife (mistresses and fiancés were ignored)\n",
    "\n",
    "parch: The dataset defines family relations in this way...\n",
    "Parent = mother, father\n",
    "Child = daughter, son, stepdaughter, stepson\n",
    "Some children travelled only with a nanny, therefore parch=0 for them.\n"
   ]
  },
  {
   "cell_type": "markdown",
   "id": "f49cae96",
   "metadata": {},
   "source": [
    "## Data exploration"
   ]
  },
  {
   "cell_type": "code",
   "execution_count": 1,
   "id": "289ca20c",
   "metadata": {},
   "outputs": [],
   "source": [
    "## Import dependencies\n",
    "import pandas as pd\n",
    "import numpy as np\n",
    "from matplotlib import pyplot as plt\n",
    "import seaborn as sns\n",
    "from sklearn.preprocessing import LabelEncoder\n",
    "import sys\n",
    "import os\n",
    "os.getcwd()\n",
    "sys.path.insert(0, '..')\n",
    "from src.correlation_eval import theils_u"
   ]
  },
  {
   "cell_type": "code",
   "execution_count": 296,
   "id": "058fb290",
   "metadata": {},
   "outputs": [],
   "source": [
    "## load data\n",
    "train_data = pd.read_csv('./data/train.csv')\n",
    "test_data = pd.read_csv('./data/test.csv')\n",
    "full_data = pd.concat([train_data, test_data], axis=0, ignore_index=True)"
   ]
  },
  {
   "cell_type": "markdown",
   "id": "3d319ad2",
   "metadata": {},
   "source": [
    "### General Information\n",
    "\n",
    "#### Observations:\n",
    "- the training set contains 891 samples,while the testing set contains  418 samples\n",
    "- For the training set, Column Age, Cabin, Embarked have missing values\n",
    "- For the testing set, Age, Fare and Cabin have missing values"
   ]
  },
  {
   "cell_type": "code",
   "execution_count": 30,
   "id": "457bb1bb",
   "metadata": {},
   "outputs": [
    {
     "name": "stdout",
     "output_type": "stream",
     "text": [
      "<class 'pandas.core.frame.DataFrame'>\n",
      "RangeIndex: 891 entries, 0 to 890\n",
      "Data columns (total 12 columns):\n",
      " #   Column       Non-Null Count  Dtype  \n",
      "---  ------       --------------  -----  \n",
      " 0   PassengerId  891 non-null    int64  \n",
      " 1   Survived     891 non-null    int64  \n",
      " 2   Pclass       891 non-null    int64  \n",
      " 3   Name         891 non-null    object \n",
      " 4   Sex          891 non-null    object \n",
      " 5   Age          714 non-null    float64\n",
      " 6   SibSp        891 non-null    int64  \n",
      " 7   Parch        891 non-null    int64  \n",
      " 8   Ticket       891 non-null    object \n",
      " 9   Fare         891 non-null    float64\n",
      " 10  Cabin        204 non-null    object \n",
      " 11  Embarked     889 non-null    object \n",
      "dtypes: float64(2), int64(5), object(5)\n",
      "memory usage: 83.7+ KB\n"
     ]
    }
   ],
   "source": [
    "train_data.info()"
   ]
  },
  {
   "cell_type": "code",
   "execution_count": 32,
   "id": "432f762a",
   "metadata": {},
   "outputs": [
    {
     "name": "stdout",
     "output_type": "stream",
     "text": [
      "<class 'pandas.core.frame.DataFrame'>\n",
      "RangeIndex: 418 entries, 0 to 417\n",
      "Data columns (total 11 columns):\n",
      " #   Column       Non-Null Count  Dtype  \n",
      "---  ------       --------------  -----  \n",
      " 0   PassengerId  418 non-null    int64  \n",
      " 1   Pclass       418 non-null    int64  \n",
      " 2   Name         418 non-null    object \n",
      " 3   Sex          418 non-null    object \n",
      " 4   Age          332 non-null    float64\n",
      " 5   SibSp        418 non-null    int64  \n",
      " 6   Parch        418 non-null    int64  \n",
      " 7   Ticket       418 non-null    object \n",
      " 8   Fare         417 non-null    float64\n",
      " 9   Cabin        91 non-null     object \n",
      " 10  Embarked     418 non-null    object \n",
      "dtypes: float64(2), int64(4), object(5)\n",
      "memory usage: 36.0+ KB\n"
     ]
    }
   ],
   "source": [
    "test_data.info()"
   ]
  },
  {
   "cell_type": "markdown",
   "id": "9f896b69",
   "metadata": {},
   "source": [
    "#### Missing values\n",
    "\n",
    "(add insights)"
   ]
  },
  {
   "cell_type": "code",
   "execution_count": 9,
   "id": "7ea21edf",
   "metadata": {
    "scrolled": true
   },
   "outputs": [
    {
     "data": {
      "text/plain": [
       "Age         177\n",
       "Cabin       687\n",
       "Embarked      2\n",
       "dtype: int64"
      ]
     },
     "execution_count": 9,
     "metadata": {},
     "output_type": "execute_result"
    }
   ],
   "source": [
    "train_count_nan=train_data.isna().sum(axis=0)\n",
    "test_count_nan=test_data.isna().sum(axis=0)\n",
    "train_count_nan[train_count_nan>0]\n"
   ]
  },
  {
   "cell_type": "markdown",
   "id": "0dd8ae47",
   "metadata": {},
   "source": [
    "Missing values in the test set: Age, Fare, Cabin"
   ]
  },
  {
   "cell_type": "code",
   "execution_count": 10,
   "id": "576dd5be",
   "metadata": {
    "scrolled": true
   },
   "outputs": [
    {
     "data": {
      "text/plain": [
       "Age       86\n",
       "Fare       1\n",
       "Cabin    327\n",
       "dtype: int64"
      ]
     },
     "execution_count": 10,
     "metadata": {},
     "output_type": "execute_result"
    }
   ],
   "source": [
    "test_count_nan[test_count_nan>0]"
   ]
  },
  {
   "cell_type": "markdown",
   "id": "bf29a41a",
   "metadata": {},
   "source": [
    "### Assumptions:\n",
    "\n",
    "#### Direct information\n",
    "- Pclass: Higher (1st) class passengers could have higher survive possibility\n",
    "- Name: From the name infomation we could extract their title which could be related with survive chance\n",
    "- Sex: Female may has higher survive possibility\n",
    "- Age: Older people may have lower survive possibility, child is most likely survived?\n",
    "- sibsp, parch: person with more relatives may have higher survive possibility?\n",
    "- Fare: Fare is related with Pclass, person have higher fare may has higher surivie possibility\n",
    "- Embarked: the place of embarked may affect the survive possibility\n",
    "\n",
    "#### Passenger groups\n",
    "- Passeger can be grouped according with their profile, such as travelling as family, etc."
   ]
  },
  {
   "cell_type": "markdown",
   "id": "89f85fd1",
   "metadata": {},
   "source": [
    "##### Pclass & Sex\n",
    "\n",
    "- Observations:\n",
    "    1. Person in higher cabin class is most likely to survive.\n",
    "    2. Female is most likely to survive.\n",
    "- Decisions:\n",
    "    1. Both Pclass and Sex will be used as categorical features for the model.\n"
   ]
  },
  {
   "cell_type": "code",
   "execution_count": 34,
   "id": "7ce81a83",
   "metadata": {},
   "outputs": [
    {
     "data": {
      "image/png": "[encoded data removed]",
      "text/plain": [
       "<Figure size 771.875x360 with 2 Axes>"
      ]
     },
     "metadata": {
      "needs_background": "light"
     },
     "output_type": "display_data"
    }
   ],
   "source": [
    "g=sns.catplot(data=train_data, x='Pclass', col='Sex', hue='Survived', kind='count')"
   ]
  },
  {
   "cell_type": "markdown",
   "id": "68a1e97e",
   "metadata": {},
   "source": [
    "##### Age\n",
    "\n",
    "Please note there are a fraction of missing data for age, those data shall be added by some methods later\n",
    "\n",
    "- Observations:\n",
    "    1. Infant has a much higher survive possibility\n",
    "    2. the oldest person(Age=80) survived which shall be removed as an outlier\n",
    "    3. most passengers' age are in bewteen 15 and 40\n",
    "    4. higher fraction of passengers are in Pclass 1\n",
    "- Decisions:\n",
    "    1. consider to bucktize the data or use it in a continuous form directly\n",
    "    2. consider to remove the person who is aged at 80 for model trainning\n",
    "    3. For the missing value, it has been found the age is related with the title in the name and number of relatives, a KNNimputer will be used to fill those data"
   ]
  },
  {
   "cell_type": "code",
   "execution_count": 99,
   "id": "3b724e7d",
   "metadata": {},
   "outputs": [
    {
     "data": {
      "image/png": "[encoded data removed]",
      "text/plain": [
       "<Figure size 864x360 with 2 Axes>"
      ]
     },
     "metadata": {
      "needs_background": "light"
     },
     "output_type": "display_data"
    }
   ],
   "source": [
    "fig, ax = plt.subplots(1, 2, figsize=(12, 5))\n",
    "\n",
    "g1 = sns.histplot(data=train_data, x='Age', ax=ax[0], color='g', bins=20, binrange=(0, 100))\n",
    "g2 = sns.histplot(data=train_data[train_data['Survived']==1]\n",
    "                  , x='Age', ax=ax[0], color='b', bins=20, binrange=(0, 100))\n",
    "ax[0].legend(labels=['Total', 'Survived'])\n",
    "\n",
    "g1 = sns.histplot(data=train_data, x='Age', ax=ax[1], \n",
    "                  multiple='stack', hue='Pclass',\n",
    "                  bins=20, binrange=(0, 100))"
   ]
  },
  {
   "cell_type": "code",
   "execution_count": 107,
   "id": "4d00d1ba",
   "metadata": {
    "scrolled": true
   },
   "outputs": [
    {
     "data": {
      "text/plain": [
       "Text(0, 0.5, 'survive fraction')"
      ]
     },
     "execution_count": 107,
     "metadata": {},
     "output_type": "execute_result"
    },
    {
     "data": {
      "image/png": "[encoded data removed]",
      "text/plain": [
       "<Figure size 432x288 with 1 Axes>"
      ]
     },
     "metadata": {
      "needs_background": "light"
     },
     "output_type": "display_data"
    }
   ],
   "source": [
    "bins = [i for i in range(0, 85, 5)]\n",
    "train_data['Age_binned'] = pd.cut(train_data['Age'], bins=bins)\n",
    "fig, ax = plt.subplots(1,1)\n",
    "fraction = (train_data[['Survived', 'Age_binned']]\n",
    "            .groupby('Age_binned', as_index=False)\n",
    "            .mean()['Survived'])\n",
    "fraction\n",
    "ax.bar(x=bins[:-1], height=fraction, align='edge', width=4.5)\n",
    "ax.set_xlabel('age range')\n",
    "ax.set_ylabel('survive fraction')"
   ]
  },
  {
   "cell_type": "markdown",
   "id": "a0d429f2",
   "metadata": {},
   "source": [
    "##### SibSp & Parch\n",
    "Please aware that the number of relatives of person onboard could also be related with his/her age\n",
    "\n",
    "- Observations:\n",
    "    1. The relationship between SibSp&Parch with surviving possibility is not clear\n",
    "- Decisions:\n",
    "    1. we shell derive some new feature use it or discard it\n",
    "    "
   ]
  },
  {
   "cell_type": "code",
   "execution_count": 39,
   "id": "28b1238f",
   "metadata": {
    "scrolled": false
   },
   "outputs": [
    {
     "data": {
      "image/png": "[encoded data removed]",
      "text/plain": [
       "<Figure size 720x360 with 2 Axes>"
      ]
     },
     "metadata": {
      "needs_background": "light"
     },
     "output_type": "display_data"
    }
   ],
   "source": [
    "fig, ax = plt.subplots(1, 2, figsize=(10, 5))\n",
    "df_1 = (train_data[['SibSp', 'Survived']]\n",
    "        .groupby('SibSp', as_index=False)\n",
    "        .mean().sort_values(by='SibSp'))\n",
    "df_2 = (train_data[['Parch', 'Survived']]\n",
    "        .groupby('Parch', as_index=False)\n",
    "        .mean().sort_values(by='Parch'))\n",
    "ax1 = sns.barplot(data=df_1, x='SibSp', y='Survived',  ax=ax[0])\n",
    "ax2 = sns.barplot(data=df_2, x='Parch', y='Survived',  ax=ax[1])\n"
   ]
  },
  {
   "cell_type": "markdown",
   "id": "999d51ea",
   "metadata": {},
   "source": [
    "- No direct information about Surviving chance can be obtained directly from SibSp and Parch"
   ]
  },
  {
   "cell_type": "code",
   "execution_count": 38,
   "id": "9bb0a4ff",
   "metadata": {},
   "outputs": [
    {
     "data": {
      "image/png": "[encoded data removed]",
      "text/plain": [
       "<Figure size 432x288 with 1 Axes>"
      ]
     },
     "metadata": {
      "needs_background": "light"
     },
     "output_type": "display_data"
    }
   ],
   "source": [
    "g = sns.pointplot(data=train_data, hue='SibSp', x='Parch', y='Age')"
   ]
  },
  {
   "cell_type": "markdown",
   "id": "cc6bd07d",
   "metadata": {},
   "source": [
    "##### Name\n",
    "- From name we can obtain the title infomation\n",
    "- it can be found the people with different title can show some correlation with surviving result"
   ]
  },
  {
   "cell_type": "code",
   "execution_count": 302,
   "id": "bf5b7a39",
   "metadata": {},
   "outputs": [],
   "source": [
    "for dataset in (train_data, test_data):\n",
    "    dataset['Title'] = dataset['Name'].str.extract(r' ([A-Za-z]+)\\.', expand=False)\n",
    "    dataset['Title_cat']=dataset['Title'].apply(\n",
    "        lambda x: x if x in {'Mr', 'Miss', 'Mrs', 'Master'} else 'others'\n",
    "    )"
   ]
  },
  {
   "cell_type": "code",
   "execution_count": 305,
   "id": "52b43263",
   "metadata": {},
   "outputs": [
    {
     "data": {
      "image/png": "[encoded data removed]",
      "text/plain": [
       "<Figure size 411.875x360 with 1 Axes>"
      ]
     },
     "metadata": {
      "needs_background": "light"
     },
     "output_type": "display_data"
    }
   ],
   "source": [
    "df = train_data.groupby(['Title_cat'])['Survived'].value_counts(normalize=True)\n",
    "df = df.rename('percent').reset_index()\n",
    "g = sns.catplot(kind='bar', data=df, x='Title_cat', y='percent', hue='Survived')"
   ]
  },
  {
   "cell_type": "markdown",
   "id": "3adea71c",
   "metadata": {},
   "source": [
    "##### Fare\n",
    "\n",
    "- Observations:\n",
    "    1. Passeger paid higher fare is likely to survive\n",
    "\n",
    "- Decisions:\n",
    "    2. consider to use it as continuous feature directly or binned in the model"
   ]
  },
  {
   "cell_type": "code",
   "execution_count": 141,
   "id": "a5a739d0",
   "metadata": {},
   "outputs": [
    {
     "data": {
      "image/png": "[encoded data removed]",
      "text/plain": [
       "<Figure size 720x360 with 2 Axes>"
      ]
     },
     "metadata": {
      "needs_background": "light"
     },
     "output_type": "display_data"
    }
   ],
   "source": [
    "g = sns.displot(data=train_data, col='Survived', x='Fare', bins=20, binrange=(0, 300))"
   ]
  },
  {
   "cell_type": "markdown",
   "id": "7df3f04c",
   "metadata": {},
   "source": [
    "##### Embarked\n",
    "\n",
    "- Observations:\n",
    "    1. Passegers embarked at S has a lower survive possibility for all three Pclass\n",
    "\n",
    "- Decisions:\n",
    "    2. Embarked will be used as a categorical feature in the model\n",
    "\n"
   ]
  },
  {
   "cell_type": "code",
   "execution_count": 155,
   "id": "3309530b",
   "metadata": {},
   "outputs": [
    {
     "data": {
      "image/png": "[encoded data removed]",
      "text/plain": [
       "<Figure size 1080x1080 with 9 Axes>"
      ]
     },
     "metadata": {
      "needs_background": "light"
     },
     "output_type": "display_data"
    }
   ],
   "source": [
    "g=sns.catplot(data=train_data, col='Embarked', row='Pclass', x='Survived', kind='count')"
   ]
  },
  {
   "cell_type": "markdown",
   "id": "398e329b",
   "metadata": {},
   "source": [
    "## Explore family group infomation\n",
    "\n",
    "### Potential features \n",
    "- YoungWithGroup(<18) 0: Not Young 1: Young Alone, 2: Young with sib/par\n",
    "- MaleWithGroup(>18) 0: Male with SP/Young, 1: Male alone 2: Not Male(>18)\n",
    "- FemaleWithGroup(>18) 0: Not Female(>18), 1:Female alone 2: Female with SP/Male\n",
    "- FamilySurvive 0: Family perished, 1: Alone, 2: Family Survived"
   ]
  },
  {
   "cell_type": "code",
   "execution_count": 306,
   "id": "9a87db2e",
   "metadata": {},
   "outputs": [
    {
     "data": {
      "text/plain": [
       "Index(['PassengerId', 'Survived', 'Pclass', 'Name', 'Sex', 'Age', 'SibSp',\n",
       "       'Parch', 'Ticket', 'Fare', 'Cabin', 'Embarked', 'Title', 'Title_cat'],\n",
       "      dtype='object')"
      ]
     },
     "execution_count": 306,
     "metadata": {},
     "output_type": "execute_result"
    }
   ],
   "source": [
    "full_data = pd.concat([train_data, test_data], ignore_index=True)\n",
    "len_train, len_test = train_data.shape[0], test_data.shape[0]\n",
    "full_data.columns"
   ]
  },
  {
   "cell_type": "code",
   "execution_count": 307,
   "id": "546e7811",
   "metadata": {},
   "outputs": [
    {
     "data": {
      "text/plain": [
       "array(['Mr', 'Mrs', 'Miss', 'Master', 'Don', 'Rev', 'Dr', 'Mme', 'Ms',\n",
       "       'Major', 'Lady', 'Sir', 'Mlle', 'Col', 'Capt', 'Countess',\n",
       "       'Jonkheer', 'Dona'], dtype=object)"
      ]
     },
     "execution_count": 307,
     "metadata": {},
     "output_type": "execute_result"
    }
   ],
   "source": [
    "full_data['Title'].unique()"
   ]
  },
  {
   "cell_type": "code",
   "execution_count": 308,
   "id": "a4d136c3",
   "metadata": {},
   "outputs": [],
   "source": [
    "## Extract last Name\n",
    "\n",
    "full_data['Lastname']=full_data['Name'].apply(lambda x: x.split(',')[0])"
   ]
  },
  {
   "cell_type": "code",
   "execution_count": 309,
   "id": "add60e39",
   "metadata": {},
   "outputs": [],
   "source": [
    "## Extract Titles\n",
    "title_map={'Mr': 'Mr', 'Mrs': 'Mrs', 'Miss': 'Miss', 'Master': 'Master',\n",
    "           'Don': 'Mr', 'Rev': 'Mr', 'Mme': 'Miss', 'Ms': 'Miss', 'Major':'Mr',\n",
    "           'Lady': 'Mrs', 'Sir': 'Mr', 'Mlle': 'Miss', 'Col': 'Mr', 'Capt':'Mr',\n",
    "           'Countess': 'Mrs', 'Jonkheer': 'Mr', 'Dona': 'Mrs', 'Dr': 'Mr'\n",
    "          }\n",
    "full_data['Title'] = full_data['Name'].str.extract(r' ([A-Za-z]+)\\.', expand=False)\n",
    "full_data['Title'] = full_data['Title'].apply(lambda x: title_map[x])"
   ]
  },
  {
   "cell_type": "markdown",
   "id": "03f6f6d7",
   "metadata": {},
   "source": [
    "#### Add FamilySurvived Feature"
   ]
  },
  {
   "cell_type": "code",
   "execution_count": 311,
   "id": "5694e948",
   "metadata": {},
   "outputs": [],
   "source": [
    "DEFUALT_FAMILYSURVIVE=1\n",
    "full_data['FamilySurvived'] = DEFUALT_FAMILYSURVIVE\n",
    "for grp, grp_df in full_data.groupby(['Lastname', 'Fare']):\n",
    "    if grp_df.shape[0]>1:\n",
    "        for idx, row in grp_df.iterrows():\n",
    "            s_max = grp_df.drop(idx)['Survived'].max()\n",
    "            s_min = grp_df.drop(idx)['Survived'].min()\n",
    "            if s_max == 1:\n",
    "                full_data.loc[idx ,'FamilySurvived'] = 2\n",
    "            elif s_min == 0:\n",
    "                full_data.loc[idx ,'FamilySurvived'] = 0\n",
    "\n",
    "for grp, grp_df in full_data.groupby(['Ticket']):\n",
    "    if grp_df.shape[0]>1:\n",
    "        for idx, row in grp_df.iterrows():\n",
    "            present_cond= (row['FamilySurvived']==0) | (row['FamilySurvived']==1)\n",
    "            family_cond = (row['SibSp']!=0) | (row['Parch']!=0)\n",
    "            if present_cond & family_cond:\n",
    "                \n",
    "                s_max = grp_df.drop(idx)['Survived'].max()\n",
    "                s_min = grp_df.drop(idx)['Survived'].min()\n",
    "                if s_max == 1:\n",
    "                    full_data.loc[idx ,'FamilySurvived'] = 2\n",
    "                elif s_min == 0:\n",
    "                    full_data.loc[idx ,'FamilySurvived'] = 0   "
   ]
  },
  {
   "cell_type": "code",
   "execution_count": 312,
   "id": "d02bc503",
   "metadata": {},
   "outputs": [
    {
     "data": {
      "text/plain": [
       "447"
      ]
     },
     "execution_count": 312,
     "metadata": {},
     "output_type": "execute_result"
    }
   ],
   "source": [
    "full_data.loc[full_data['FamilySurvived']!=1, 'Pclass'].count()"
   ]
  },
  {
   "cell_type": "code",
   "execution_count": 313,
   "id": "5642fa45",
   "metadata": {},
   "outputs": [
    {
     "data": {
      "image/png": "[encoded data removed]",
      "text/plain": [
       "<Figure size 412x360 with 1 Axes>"
      ]
     },
     "metadata": {
      "needs_background": "light"
     },
     "output_type": "display_data"
    }
   ],
   "source": [
    "df1 = full_data[:len_train].groupby(['FamilySurvived'])['Survived'].value_counts(normalize=True)\n",
    "df1 = df1.mul(100)\n",
    "df1 = df1.rename('percent').reset_index()\n",
    "p = sns.catplot(data=df1, x='FamilySurvived', y='percent',\n",
    "                hue='Survived', kind='bar',  )\n"
   ]
  },
  {
   "cell_type": "markdown",
   "id": "f5d23929",
   "metadata": {},
   "source": [
    "#### Add YoungWithGroup Feature\n",
    "YoungWithGroup(<18)  0: Not Young 1: Young Alone, 2: Young with sib/par"
   ]
  },
  {
   "cell_type": "code",
   "execution_count": 314,
   "id": "ca979b9a",
   "metadata": {},
   "outputs": [],
   "source": [
    "DEFAULT_YOUNGWITHGROUP = 0\n",
    "full_data['YoungWithGroup'] = DEFAULT_YOUNGWITHGROUP\n",
    "for grp, grp_df in full_data.groupby(['Lastname', 'Fare']):\n",
    "    if grp_df.shape[0]==1:\n",
    "        for idx, row in grp_df.iterrows():\n",
    "            if (row['Age'] <= 18) | (row['Title']=='Master'):\n",
    "                full_data.loc[idx, 'YoungWithGroup'] = 1\n",
    "    \n",
    "    elif grp_df.shape[0]>1:\n",
    "        for idx, row in grp_df.iterrows():\n",
    "            age_cond = row['Age'] <= 18\n",
    "            title_cond = row['Title'] == 'Master'  # for boys\n",
    "            if age_cond | title_cond :\n",
    "                if grp_df['Age'].max() > 20: \n",
    "                    full_data.loc[idx, 'YoungWithGroup'] = 2\n",
    "                else : full_data.loc[idx, 'YoungWithGroup'] = 2\n",
    "                    \n",
    "for grp, grp_df in full_data.groupby(['Ticket']):\n",
    "    if grp_df.shape[0]>1:\n",
    "        for idx, row in grp_df.iterrows():\n",
    "            if row['YoungWithGroup'] == 1:\n",
    "                if (row['Parch'] > 0) | (grp_df['Age'].max()>30):\n",
    "                    full_data.loc[idx, 'YoungWithGroup'] = 2\n",
    "                else:\n",
    "                    full_data.loc[idx, 'YoungWithGroup'] = 1\n",
    "                    \n"
   ]
  },
  {
   "cell_type": "code",
   "execution_count": 315,
   "id": "babe0aac",
   "metadata": {},
   "outputs": [
    {
     "data": {
      "image/png": "[encoded data removed]",
      "text/plain": [
       "<Figure size 412x360 with 1 Axes>"
      ]
     },
     "metadata": {
      "needs_background": "light"
     },
     "output_type": "display_data"
    }
   ],
   "source": [
    "df1 = full_data[:len_train].groupby(['YoungWithGroup'])['Survived'].value_counts(normalize=True)\n",
    "df1= df1.mul(100)\n",
    "df1 = df1.rename('percent').reset_index()\n",
    "p = sns.catplot(kind='bar', data=df1, x='YoungWithGroup', y='percent', hue='Survived')\n",
    "\n"
   ]
  },
  {
   "cell_type": "markdown",
   "id": "6e7f0223",
   "metadata": {},
   "source": [
    "#### Add MaleWithGroup(>18) Feature\n",
    "MaleWithGroup(>18) 0: Male with SP/Young, 1: Male alone/ with male friends 2: Not Male(>18)"
   ]
  },
  {
   "cell_type": "code",
   "execution_count": 316,
   "id": "ae61ba88",
   "metadata": {},
   "outputs": [],
   "source": [
    "DEFAULT_MALEWITHGROUP = 2\n",
    "full_data['MaleWithGroup'] = DEFAULT_MALEWITHGROUP\n",
    "\n",
    "for grp, grp_df in full_data.groupby(['Ticket']):\n",
    "    if grp_df.shape[0] == 1:\n",
    "        for idx, row in grp_df.iterrows():\n",
    "            if (row['Sex']=='male') & (row['Age']>18 or row['Age']==np.nan) & (row['Title']!='Master'):\n",
    "                full_data.loc[idx, 'MaleWithGroup'] = 1\n",
    "    else:\n",
    "        for idx, row in grp_df.iterrows():\n",
    "            if (row['Sex']=='male') & (row['Age']>18 or row['Age']==np.nan) & (row['Title']!='Master'):\n",
    "                if (grp_df['Age'].min()<18) or 'Master' in grp_df['Title'].unique() or (\n",
    "                ('female' in grp_df['Sex']) and row['Parch']==0):\n",
    "                    full_data.loc[idx, 'MaleWithGroup'] = 0\n",
    "                else:\n",
    "                    full_data.loc[idx, 'MaleWithGroup'] = 1"
   ]
  },
  {
   "cell_type": "code",
   "execution_count": 317,
   "id": "f9ef0177",
   "metadata": {
    "scrolled": true
   },
   "outputs": [
    {
     "data": {
      "image/png": "[encoded data removed]",
      "text/plain": [
       "<Figure size 412x360 with 1 Axes>"
      ]
     },
     "metadata": {
      "needs_background": "light"
     },
     "output_type": "display_data"
    }
   ],
   "source": [
    "df1 = full_data[:len_train].groupby(['MaleWithGroup'])['Survived'].value_counts(normalize=True)\n",
    "df1= df1.mul(100)\n",
    "df1 = df1.rename('percent').reset_index()\n",
    "p = sns.catplot(kind='bar', data=df1, x='MaleWithGroup', y='percent', hue='Survived')"
   ]
  },
  {
   "cell_type": "markdown",
   "id": "44f3ebc1",
   "metadata": {},
   "source": [
    "#### Add FemaleWithGroup Feature\n",
    "FemaleWithGroup(>18) 0: Not Female(>18), 1:Female alone 2: Female with SP/Male"
   ]
  },
  {
   "cell_type": "code",
   "execution_count": 318,
   "id": "bff30590",
   "metadata": {},
   "outputs": [],
   "source": [
    "DEFAULT_FEMALEWITHGROUP=0\n",
    "full_data['FemaleWithGroup']=DEFAULT_FEMALEWITHGROUP\n",
    "\n",
    "for grp, grp_df in full_data.groupby(['Ticket']):\n",
    "    if grp_df.shape[0] == 1:\n",
    "        for idx, row in grp_df.iterrows():\n",
    "            if ((row['Sex'] == 'female') & (row['Age']>18)) or row['Title']=='Mrs' :\n",
    "                full_data.loc[idx, 'FemaleWithGroup'] = 1\n",
    "    else:\n",
    "        for idx, row in grp_df.iterrows():\n",
    "            if ((row['Sex'] == 'female') & (row['Age']>18)) or row['Title']=='Mrs':\n",
    "                if ('Mr' in grp_df['Title'].unique()) & (grp_df.drop(idx)['Age'].max()>18):\n",
    "                    full_data.loc[idx, 'FemaleWithGroup'] = 2\n",
    "                else: full_data.loc[idx, 'FemaleWithGroup'] = 1\n",
    "                "
   ]
  },
  {
   "cell_type": "code",
   "execution_count": 319,
   "id": "4a5de51a",
   "metadata": {
    "scrolled": true
   },
   "outputs": [
    {
     "data": {
      "image/png": "[encoded data removed]",
      "text/plain": [
       "<Figure size 412x360 with 1 Axes>"
      ]
     },
     "metadata": {
      "needs_background": "light"
     },
     "output_type": "display_data"
    }
   ],
   "source": [
    "df1 = full_data[:len_train].groupby(['FemaleWithGroup'])['Survived'].value_counts(normalize=True)\n",
    "df1= df1.mul(100)\n",
    "df1 = df1.rename('percent').reset_index()\n",
    "p = sns.catplot(kind='bar', data=df1, x='FemaleWithGroup', y='percent', hue='Survived')"
   ]
  },
  {
   "cell_type": "markdown",
   "id": "a1033c86",
   "metadata": {},
   "source": [
    "#### Add IsAlone Feature"
   ]
  },
  {
   "cell_type": "code",
   "execution_count": 320,
   "id": "88b2a6a5",
   "metadata": {},
   "outputs": [],
   "source": [
    "DEFAULT_ISALONE = 1\n",
    "full_data['IsAlone'] = DEFAULT_ISALONE\n",
    "full_data['IsAlone'] = full_data[['SibSp','Parch']].apply(\n",
    "    lambda x: 0 if x[0]+x[1]>0 else 1, axis=1\n",
    ")"
   ]
  },
  {
   "cell_type": "markdown",
   "id": "81d3622f",
   "metadata": {},
   "source": [
    "## Build sklearn pipeline"
   ]
  },
  {
   "cell_type": "code",
   "execution_count": 353,
   "id": "3c6b8aff",
   "metadata": {},
   "outputs": [],
   "source": [
    "input_full_data = full_data[['Pclass', 'Sex', 'Age', 'Fare', 'Embarked', 'Title',\n",
    "                             'SibSp', 'Parch', 'MaleWithGroup', 'FemaleWithGroup',\n",
    "                             'YoungWithGroup', 'IsAlone', 'FamilySurvived']].copy()\n",
    "# , 'MaleWithGroup', 'FemaleWithGroup', 'FamilySurvived'\n",
    "y_train = train_data['Survived'].values\n",
    "title_encodes = {'Mr': 0, 'Mrs': 1, 'Miss':2, 'Master':3}\n",
    "input_full_data['Title']=input_full_data['Title'].apply(lambda x: title_encodes[x])"
   ]
  },
  {
   "cell_type": "code",
   "execution_count": 322,
   "id": "7b37730e",
   "metadata": {},
   "outputs": [],
   "source": [
    "from sklearn.pipeline import Pipeline, FeatureUnion\n",
    "from sklearn.preprocessing import OrdinalEncoder, KBinsDiscretizer\n",
    "from sklearn.impute import KNNImputer, SimpleImputer\n",
    "from sklearn.compose import ColumnTransformer\n",
    "from sklearn.model_selection import cross_val_score\n",
    "cat_features = ['Title', 'Embarked', 'Sex']\n",
    "age_features = ['Age', 'SibSp', 'Parch', 'Title']\n",
    "fare_feature = ['Fare']\n",
    "from sklearn.ensemble import RandomForestClassifier\n"
   ]
  },
  {
   "cell_type": "code",
   "execution_count": 323,
   "id": "fba6dad2",
   "metadata": {},
   "outputs": [],
   "source": [
    "from typing import List\n",
    "from sklearn.base import BaseEstimator, TransformerMixin\n",
    "class ArraySelector(BaseEstimator, TransformerMixin):\n",
    "    '''\n",
    "    # select sepecific feature columns from  np.array\n",
    "    '''\n",
    "\n",
    "    def __init__(self, col_idx: List[int]):\n",
    "        self.col_idx = col_idx\n",
    "\n",
    "    def fit(self, X, y=None):\n",
    "        return self\n",
    "\n",
    "    def transform(self, X, y=None):\n",
    "        return X[:, self.col_idx]\n",
    "\n",
    "    def get_feature_names_out(self, input_features=None):\n",
    "        out_features = []\n",
    "        for i in self.col_idx:\n",
    "            out_features.append(input_features[i])\n",
    "        return out_features"
   ]
  },
  {
   "cell_type": "code",
   "execution_count": 354,
   "id": "85591190",
   "metadata": {},
   "outputs": [
    {
     "data": {
      "text/html": [
       "<style>#sk-container-id-18 {color: black;background-color: white;}#sk-container-id-18 pre{padding: 0;}#sk-container-id-18 div.sk-toggleable {background-color: white;}#sk-container-id-18 label.sk-toggleable__label {cursor: pointer;display: block;width: 100%;margin-bottom: 0;padding: 0.3em;box-sizing: border-box;text-align: center;}#sk-container-id-18 label.sk-toggleable__label-arrow:before {content: \"▸\";float: left;margin-right: 0.25em;color: #696969;}#sk-container-id-18 label.sk-toggleable__label-arrow:hover:before {color: black;}#sk-container-id-18 div.sk-estimator:hover label.sk-toggleable__label-arrow:before {color: black;}#sk-container-id-18 div.sk-toggleable__content {max-height: 0;max-width: 0;overflow: hidden;text-align: left;background-color: #f0f8ff;}#sk-container-id-18 div.sk-toggleable__content pre {margin: 0.2em;color: black;border-radius: 0.25em;background-color: #f0f8ff;}#sk-container-id-18 input.sk-toggleable__control:checked~div.sk-toggleable__content {max-height: 200px;max-width: 100%;overflow: auto;}#sk-container-id-18 input.sk-toggleable__control:checked~label.sk-toggleable__label-arrow:before {content: \"▾\";}#sk-container-id-18 div.sk-estimator input.sk-toggleable__control:checked~label.sk-toggleable__label {background-color: #d4ebff;}#sk-container-id-18 div.sk-label input.sk-toggleable__control:checked~label.sk-toggleable__label {background-color: #d4ebff;}#sk-container-id-18 input.sk-hidden--visually {border: 0;clip: rect(1px 1px 1px 1px);clip: rect(1px, 1px, 1px, 1px);height: 1px;margin: -1px;overflow: hidden;padding: 0;position: absolute;width: 1px;}#sk-container-id-18 div.sk-estimator {font-family: monospace;background-color: #f0f8ff;border: 1px dotted black;border-radius: 0.25em;box-sizing: border-box;margin-bottom: 0.5em;}#sk-container-id-18 div.sk-estimator:hover {background-color: #d4ebff;}#sk-container-id-18 div.sk-parallel-item::after {content: \"\";width: 100%;border-bottom: 1px solid gray;flex-grow: 1;}#sk-container-id-18 div.sk-label:hover label.sk-toggleable__label {background-color: #d4ebff;}#sk-container-id-18 div.sk-serial::before {content: \"\";position: absolute;border-left: 1px solid gray;box-sizing: border-box;top: 0;bottom: 0;left: 50%;z-index: 0;}#sk-container-id-18 div.sk-serial {display: flex;flex-direction: column;align-items: center;background-color: white;padding-right: 0.2em;padding-left: 0.2em;position: relative;}#sk-container-id-18 div.sk-item {position: relative;z-index: 1;}#sk-container-id-18 div.sk-parallel {display: flex;align-items: stretch;justify-content: center;background-color: white;position: relative;}#sk-container-id-18 div.sk-item::before, #sk-container-id-18 div.sk-parallel-item::before {content: \"\";position: absolute;border-left: 1px solid gray;box-sizing: border-box;top: 0;bottom: 0;left: 50%;z-index: -1;}#sk-container-id-18 div.sk-parallel-item {display: flex;flex-direction: column;z-index: 1;position: relative;background-color: white;}#sk-container-id-18 div.sk-parallel-item:first-child::after {align-self: flex-end;width: 50%;}#sk-container-id-18 div.sk-parallel-item:last-child::after {align-self: flex-start;width: 50%;}#sk-container-id-18 div.sk-parallel-item:only-child::after {width: 0;}#sk-container-id-18 div.sk-dashed-wrapped {border: 1px dashed gray;margin: 0 0.4em 0.5em 0.4em;box-sizing: border-box;padding-bottom: 0.4em;background-color: white;}#sk-container-id-18 div.sk-label label {font-family: monospace;font-weight: bold;display: inline-block;line-height: 1.2em;}#sk-container-id-18 div.sk-label-container {text-align: center;}#sk-container-id-18 div.sk-container {/* jupyter's `normalize.less` sets `[hidden] { display: none; }` but bootstrap.min.css set `[hidden] { display: none !important; }` so we also need the `!important` here to be able to override the default hidden behavior on the sphinx rendered scikit-learn.org. See: https://github.com/scikit-learn/scikit-learn/issues/21755 */display: inline-block !important;position: relative;}#sk-container-id-18 div.sk-text-repr-fallback {display: none;}</style><div id=\"sk-container-id-18\" class=\"sk-top-container\"><div class=\"sk-text-repr-fallback\"><pre>ColumnTransformer(remainder=&#x27;passthrough&#x27;,\n",
       "                  transformers=[(&#x27;cat&#x27;,\n",
       "                                 Pipeline(steps=[(&#x27;imputer&#x27;,\n",
       "                                                  SimpleImputer(strategy=&#x27;most_frequent&#x27;)),\n",
       "                                                 (&#x27;encoder&#x27;,\n",
       "                                                  OrdinalEncoder())]),\n",
       "                                 [&#x27;Title&#x27;, &#x27;Embarked&#x27;, &#x27;Sex&#x27;]),\n",
       "                                (&#x27;age&#x27;,\n",
       "                                 Pipeline(steps=[(&#x27;imputer&#x27;,\n",
       "                                                  KNNImputer(n_neighbors=15)),\n",
       "                                                 (&#x27;selector&#x27;,\n",
       "                                                  ArraySelector(col_idx=[0])),\n",
       "                                                 (&#x27;bucket&#x27;,\n",
       "                                                  KBinsDiscretizer(encode=&#x27;ordinal&#x27;,\n",
       "                                                                   strategy=&#x27;uniform&#x27;))]),\n",
       "                                 [&#x27;Age&#x27;, &#x27;SibSp&#x27;, &#x27;Parch&#x27;, &#x27;Title&#x27;]),\n",
       "                                (&#x27;fare&#x27;,\n",
       "                                 Pipeline(steps=[(&#x27;imputer&#x27;,\n",
       "                                                  SimpleImputer(strategy=&#x27;median&#x27;)),\n",
       "                                                 (&#x27;bucket&#x27;,\n",
       "                                                  KBinsDiscretizer(encode=&#x27;ordinal&#x27;,\n",
       "                                                                   strategy=&#x27;uniform&#x27;))]),\n",
       "                                 [&#x27;Fare&#x27;])])</pre><b>In a Jupyter environment, please rerun this cell to show the HTML representation or trust the notebook. <br />On GitHub, the HTML representation is unable to render, please try loading this page with nbviewer.org.</b></div><div class=\"sk-container\" hidden><div class=\"sk-item sk-dashed-wrapped\"><div class=\"sk-label-container\"><div class=\"sk-label sk-toggleable\"><input class=\"sk-toggleable__control sk-hidden--visually\" id=\"sk-estimator-id-185\" type=\"checkbox\" ><label for=\"sk-estimator-id-185\" class=\"sk-toggleable__label sk-toggleable__label-arrow\">ColumnTransformer</label><div class=\"sk-toggleable__content\"><pre>ColumnTransformer(remainder=&#x27;passthrough&#x27;,\n",
       "                  transformers=[(&#x27;cat&#x27;,\n",
       "                                 Pipeline(steps=[(&#x27;imputer&#x27;,\n",
       "                                                  SimpleImputer(strategy=&#x27;most_frequent&#x27;)),\n",
       "                                                 (&#x27;encoder&#x27;,\n",
       "                                                  OrdinalEncoder())]),\n",
       "                                 [&#x27;Title&#x27;, &#x27;Embarked&#x27;, &#x27;Sex&#x27;]),\n",
       "                                (&#x27;age&#x27;,\n",
       "                                 Pipeline(steps=[(&#x27;imputer&#x27;,\n",
       "                                                  KNNImputer(n_neighbors=15)),\n",
       "                                                 (&#x27;selector&#x27;,\n",
       "                                                  ArraySelector(col_idx=[0])),\n",
       "                                                 (&#x27;bucket&#x27;,\n",
       "                                                  KBinsDiscretizer(encode=&#x27;ordinal&#x27;,\n",
       "                                                                   strategy=&#x27;uniform&#x27;))]),\n",
       "                                 [&#x27;Age&#x27;, &#x27;SibSp&#x27;, &#x27;Parch&#x27;, &#x27;Title&#x27;]),\n",
       "                                (&#x27;fare&#x27;,\n",
       "                                 Pipeline(steps=[(&#x27;imputer&#x27;,\n",
       "                                                  SimpleImputer(strategy=&#x27;median&#x27;)),\n",
       "                                                 (&#x27;bucket&#x27;,\n",
       "                                                  KBinsDiscretizer(encode=&#x27;ordinal&#x27;,\n",
       "                                                                   strategy=&#x27;uniform&#x27;))]),\n",
       "                                 [&#x27;Fare&#x27;])])</pre></div></div></div><div class=\"sk-parallel\"><div class=\"sk-parallel-item\"><div class=\"sk-item\"><div class=\"sk-label-container\"><div class=\"sk-label sk-toggleable\"><input class=\"sk-toggleable__control sk-hidden--visually\" id=\"sk-estimator-id-186\" type=\"checkbox\" ><label for=\"sk-estimator-id-186\" class=\"sk-toggleable__label sk-toggleable__label-arrow\">cat</label><div class=\"sk-toggleable__content\"><pre>[&#x27;Title&#x27;, &#x27;Embarked&#x27;, &#x27;Sex&#x27;]</pre></div></div></div><div class=\"sk-serial\"><div class=\"sk-item\"><div class=\"sk-serial\"><div class=\"sk-item\"><div class=\"sk-estimator sk-toggleable\"><input class=\"sk-toggleable__control sk-hidden--visually\" id=\"sk-estimator-id-187\" type=\"checkbox\" ><label for=\"sk-estimator-id-187\" class=\"sk-toggleable__label sk-toggleable__label-arrow\">SimpleImputer</label><div class=\"sk-toggleable__content\"><pre>SimpleImputer(strategy=&#x27;most_frequent&#x27;)</pre></div></div></div><div class=\"sk-item\"><div class=\"sk-estimator sk-toggleable\"><input class=\"sk-toggleable__control sk-hidden--visually\" id=\"sk-estimator-id-188\" type=\"checkbox\" ><label for=\"sk-estimator-id-188\" class=\"sk-toggleable__label sk-toggleable__label-arrow\">OrdinalEncoder</label><div class=\"sk-toggleable__content\"><pre>OrdinalEncoder()</pre></div></div></div></div></div></div></div></div><div class=\"sk-parallel-item\"><div class=\"sk-item\"><div class=\"sk-label-container\"><div class=\"sk-label sk-toggleable\"><input class=\"sk-toggleable__control sk-hidden--visually\" id=\"sk-estimator-id-189\" type=\"checkbox\" ><label for=\"sk-estimator-id-189\" class=\"sk-toggleable__label sk-toggleable__label-arrow\">age</label><div class=\"sk-toggleable__content\"><pre>[&#x27;Age&#x27;, &#x27;SibSp&#x27;, &#x27;Parch&#x27;, &#x27;Title&#x27;]</pre></div></div></div><div class=\"sk-serial\"><div class=\"sk-item\"><div class=\"sk-serial\"><div class=\"sk-item\"><div class=\"sk-estimator sk-toggleable\"><input class=\"sk-toggleable__control sk-hidden--visually\" id=\"sk-estimator-id-190\" type=\"checkbox\" ><label for=\"sk-estimator-id-190\" class=\"sk-toggleable__label sk-toggleable__label-arrow\">KNNImputer</label><div class=\"sk-toggleable__content\"><pre>KNNImputer(n_neighbors=15)</pre></div></div></div><div class=\"sk-item\"><div class=\"sk-estimator sk-toggleable\"><input class=\"sk-toggleable__control sk-hidden--visually\" id=\"sk-estimator-id-191\" type=\"checkbox\" ><label for=\"sk-estimator-id-191\" class=\"sk-toggleable__label sk-toggleable__label-arrow\">ArraySelector</label><div class=\"sk-toggleable__content\"><pre>ArraySelector(col_idx=[0])</pre></div></div></div><div class=\"sk-item\"><div class=\"sk-estimator sk-toggleable\"><input class=\"sk-toggleable__control sk-hidden--visually\" id=\"sk-estimator-id-192\" type=\"checkbox\" ><label for=\"sk-estimator-id-192\" class=\"sk-toggleable__label sk-toggleable__label-arrow\">KBinsDiscretizer</label><div class=\"sk-toggleable__content\"><pre>KBinsDiscretizer(encode=&#x27;ordinal&#x27;, strategy=&#x27;uniform&#x27;)</pre></div></div></div></div></div></div></div></div><div class=\"sk-parallel-item\"><div class=\"sk-item\"><div class=\"sk-label-container\"><div class=\"sk-label sk-toggleable\"><input class=\"sk-toggleable__control sk-hidden--visually\" id=\"sk-estimator-id-193\" type=\"checkbox\" ><label for=\"sk-estimator-id-193\" class=\"sk-toggleable__label sk-toggleable__label-arrow\">fare</label><div class=\"sk-toggleable__content\"><pre>[&#x27;Fare&#x27;]</pre></div></div></div><div class=\"sk-serial\"><div class=\"sk-item\"><div class=\"sk-serial\"><div class=\"sk-item\"><div class=\"sk-estimator sk-toggleable\"><input class=\"sk-toggleable__control sk-hidden--visually\" id=\"sk-estimator-id-194\" type=\"checkbox\" ><label for=\"sk-estimator-id-194\" class=\"sk-toggleable__label sk-toggleable__label-arrow\">SimpleImputer</label><div class=\"sk-toggleable__content\"><pre>SimpleImputer(strategy=&#x27;median&#x27;)</pre></div></div></div><div class=\"sk-item\"><div class=\"sk-estimator sk-toggleable\"><input class=\"sk-toggleable__control sk-hidden--visually\" id=\"sk-estimator-id-195\" type=\"checkbox\" ><label for=\"sk-estimator-id-195\" class=\"sk-toggleable__label sk-toggleable__label-arrow\">KBinsDiscretizer</label><div class=\"sk-toggleable__content\"><pre>KBinsDiscretizer(encode=&#x27;ordinal&#x27;, strategy=&#x27;uniform&#x27;)</pre></div></div></div></div></div></div></div></div><div class=\"sk-parallel-item\"><div class=\"sk-item\"><div class=\"sk-label-container\"><div class=\"sk-label sk-toggleable\"><input class=\"sk-toggleable__control sk-hidden--visually\" id=\"sk-estimator-id-196\" type=\"checkbox\" ><label for=\"sk-estimator-id-196\" class=\"sk-toggleable__label sk-toggleable__label-arrow\">remainder</label><div class=\"sk-toggleable__content\"><pre>[&#x27;Pclass&#x27;, &#x27;MaleWithGroup&#x27;, &#x27;FemaleWithGroup&#x27;, &#x27;YoungWithGroup&#x27;, &#x27;IsAlone&#x27;, &#x27;FamilySurvived&#x27;]</pre></div></div></div><div class=\"sk-serial\"><div class=\"sk-item\"><div class=\"sk-estimator sk-toggleable\"><input class=\"sk-toggleable__control sk-hidden--visually\" id=\"sk-estimator-id-197\" type=\"checkbox\" ><label for=\"sk-estimator-id-197\" class=\"sk-toggleable__label sk-toggleable__label-arrow\">passthrough</label><div class=\"sk-toggleable__content\"><pre>passthrough</pre></div></div></div></div></div></div></div></div></div></div>"
      ],
      "text/plain": [
       "ColumnTransformer(remainder='passthrough',\n",
       "                  transformers=[('cat',\n",
       "                                 Pipeline(steps=[('imputer',\n",
       "                                                  SimpleImputer(strategy='most_frequent')),\n",
       "                                                 ('encoder',\n",
       "                                                  OrdinalEncoder())]),\n",
       "                                 ['Title', 'Embarked', 'Sex']),\n",
       "                                ('age',\n",
       "                                 Pipeline(steps=[('imputer',\n",
       "                                                  KNNImputer(n_neighbors=15)),\n",
       "                                                 ('selector',\n",
       "                                                  ArraySelector(col_idx=[0])),\n",
       "                                                 ('bucket',\n",
       "                                                  KBinsDiscretizer(encode='ordinal',\n",
       "                                                                   strategy='uniform'))]),\n",
       "                                 ['Age', 'SibSp', 'Parch', 'Title']),\n",
       "                                ('fare',\n",
       "                                 Pipeline(steps=[('imputer',\n",
       "                                                  SimpleImputer(strategy='median')),\n",
       "                                                 ('bucket',\n",
       "                                                  KBinsDiscretizer(encode='ordinal',\n",
       "                                                                   strategy='uniform'))]),\n",
       "                                 ['Fare'])])"
      ]
     },
     "execution_count": 354,
     "metadata": {},
     "output_type": "execute_result"
    }
   ],
   "source": [
    "pipe_cat = Pipeline(\n",
    "    steps=[\n",
    "        ('imputer', SimpleImputer(strategy='most_frequent')),\n",
    "        ('encoder', OrdinalEncoder())\n",
    "    ]\n",
    ")\n",
    "pipe_age = Pipeline(\n",
    "    steps=[\n",
    "        ('imputer', KNNImputer(n_neighbors=15)),\n",
    "        ('selector', ArraySelector(col_idx=[0])),\n",
    "        ('bucket', KBinsDiscretizer(n_bins=5, strategy='uniform', encode='ordinal'))\n",
    "    ]\n",
    ")\n",
    "pipe_fare = Pipeline(\n",
    "    steps=[\n",
    "        ('imputer', SimpleImputer(strategy='median')),\n",
    "        ('bucket', KBinsDiscretizer(n_bins=5, strategy='uniform', encode='ordinal'))\n",
    "    ]\n",
    ")\n",
    "\n",
    "preprocess = ColumnTransformer(\n",
    "    transformers=[\n",
    "        ('cat', pipe_cat, cat_features),\n",
    "        ('age', pipe_age, age_features),\n",
    "        ('fare', pipe_fare, fare_feature)\n",
    "    ], remainder='passthrough'\n",
    ")\n",
    "model = RandomForestClassifier()\n",
    "preprocess.fit(input_full_data)"
   ]
  },
  {
   "cell_type": "code",
   "execution_count": 355,
   "id": "c11d961d",
   "metadata": {
    "scrolled": true
   },
   "outputs": [
    {
     "data": {
      "text/plain": [
       "array(['cat__Title', 'cat__Embarked', 'cat__Sex', 'age__Age',\n",
       "       'fare__Fare', 'remainder__Pclass', 'remainder__MaleWithGroup',\n",
       "       'remainder__FemaleWithGroup', 'remainder__YoungWithGroup',\n",
       "       'remainder__IsAlone', 'remainder__FamilySurvived'], dtype=object)"
      ]
     },
     "execution_count": 355,
     "metadata": {},
     "output_type": "execute_result"
    }
   ],
   "source": [
    "preprocess.get_feature_names_out()"
   ]
  },
  {
   "cell_type": "code",
   "execution_count": 359,
   "id": "0060d177",
   "metadata": {},
   "outputs": [
    {
     "name": "stdout",
     "output_type": "stream",
     "text": [
      "[0.81005587 0.81460674 0.84831461 0.81460674 0.85955056]\n"
     ]
    }
   ],
   "source": [
    "X_train = preprocess.transform(input_full_data[:len_train])\n",
    "X_test = preprocess.transform(input_full_data[len_train:])\n",
    "y_train = train_data['Survived'].values\n",
    "print(cross_val_score(model, X_train, y_train))\n",
    "model.fit(X_train, y_train)\n",
    "y_pred = model.predict(X_test)\n",
    "submission_df = pd.DataFrame(\n",
    "    {\n",
    "        'PassengerId': test_data['PassengerId'],\n",
    "        'Survived': y_pred\n",
    "    }\n",
    ")\n",
    "submission_df.to_csv('submission_new.csv', index=False)"
   ]
  },
  {
   "cell_type": "markdown",
   "id": "600ee41b",
   "metadata": {},
   "source": [
    "## Correlation heatmap"
   ]
  },
  {
   "cell_type": "code",
   "execution_count": 346,
   "id": "caab241d",
   "metadata": {},
   "outputs": [],
   "source": [
    "train_array = np.c_[X_train, y_train]\n",
    "train_array.shape\n",
    "columns = list(preprocess.get_feature_names_out())\n",
    "columns = columns +['Survived']\n",
    "t_df = pd.DataFrame(train_array, columns=columns)"
   ]
  },
  {
   "cell_type": "code",
   "execution_count": 364,
   "id": "ae48f990",
   "metadata": {},
   "outputs": [
    {
     "data": {
      "image/png": "[encoded data removed]",
      "text/plain": [
       "<Figure size 432x288 with 2 Axes>"
      ]
     },
     "metadata": {
      "needs_background": "light"
     },
     "output_type": "display_data"
    }
   ],
   "source": [
    "corr = t_df.corr(method=theils_u)\n",
    "mask = np.zeros_like(corr)\n",
    "mask[np.triu_indices_from(mask)] = True\n",
    "g = sns.heatmap(corr, mask=mask, vmax=.7, square=True)"
   ]
  },
  {
   "cell_type": "code",
   "execution_count": 363,
   "id": "2d19186a",
   "metadata": {},
   "outputs": [
    {
     "data": {
      "text/html": [
       "<div>\n",
       "<style scoped>\n",
       "    .dataframe tbody tr th:only-of-type {\n",
       "        vertical-align: middle;\n",
       "    }\n",
       "\n",
       "    .dataframe tbody tr th {\n",
       "        vertical-align: top;\n",
       "    }\n",
       "\n",
       "    .dataframe thead th {\n",
       "        text-align: right;\n",
       "    }\n",
       "</style>\n",
       "<table border=\"1\" class=\"dataframe\">\n",
       "  <thead>\n",
       "    <tr style=\"text-align: right;\">\n",
       "      <th></th>\n",
       "      <th>cat__Title</th>\n",
       "      <th>cat__Embarked</th>\n",
       "      <th>cat__Sex</th>\n",
       "      <th>age__Age</th>\n",
       "      <th>fare__Fare</th>\n",
       "      <th>remainder__Pclass</th>\n",
       "      <th>remainder__MaleWithGroup</th>\n",
       "      <th>remainder__FemaleWithGroup</th>\n",
       "      <th>remainder__FamilySurvived</th>\n",
       "      <th>remainder__YoungWithGroup</th>\n",
       "      <th>remainder__IsAlone</th>\n",
       "      <th>Survived</th>\n",
       "    </tr>\n",
       "  </thead>\n",
       "  <tbody>\n",
       "    <tr>\n",
       "      <th>cat__Title</th>\n",
       "      <td>1.000000</td>\n",
       "      <td>0.018742</td>\n",
       "      <td>0.611018</td>\n",
       "      <td>0.189047</td>\n",
       "      <td>0.013683</td>\n",
       "      <td>0.020125</td>\n",
       "      <td>0.304566</td>\n",
       "      <td>0.393896</td>\n",
       "      <td>0.094337</td>\n",
       "      <td>0.146841</td>\n",
       "      <td>0.129778</td>\n",
       "      <td>0.161269</td>\n",
       "    </tr>\n",
       "    <tr>\n",
       "      <th>cat__Embarked</th>\n",
       "      <td>0.018742</td>\n",
       "      <td>1.000000</td>\n",
       "      <td>0.009356</td>\n",
       "      <td>0.009083</td>\n",
       "      <td>0.033983</td>\n",
       "      <td>0.092452</td>\n",
       "      <td>0.028693</td>\n",
       "      <td>0.013341</td>\n",
       "      <td>0.014787</td>\n",
       "      <td>0.003013</td>\n",
       "      <td>0.009663</td>\n",
       "      <td>0.018745</td>\n",
       "    </tr>\n",
       "    <tr>\n",
       "      <th>cat__Sex</th>\n",
       "      <td>0.611018</td>\n",
       "      <td>0.009356</td>\n",
       "      <td>1.000000</td>\n",
       "      <td>0.037027</td>\n",
       "      <td>0.017958</td>\n",
       "      <td>0.014644</td>\n",
       "      <td>0.414087</td>\n",
       "      <td>0.519720</td>\n",
       "      <td>0.046314</td>\n",
       "      <td>0.009539</td>\n",
       "      <td>0.070801</td>\n",
       "      <td>0.232492</td>\n",
       "    </tr>\n",
       "    <tr>\n",
       "      <th>age__Age</th>\n",
       "      <td>0.189047</td>\n",
       "      <td>0.009083</td>\n",
       "      <td>0.037027</td>\n",
       "      <td>1.000000</td>\n",
       "      <td>0.005943</td>\n",
       "      <td>0.048343</td>\n",
       "      <td>0.083732</td>\n",
       "      <td>0.033779</td>\n",
       "      <td>0.059880</td>\n",
       "      <td>0.216588</td>\n",
       "      <td>0.057825</td>\n",
       "      <td>0.010006</td>\n",
       "    </tr>\n",
       "    <tr>\n",
       "      <th>fare__Fare</th>\n",
       "      <td>0.013683</td>\n",
       "      <td>0.033983</td>\n",
       "      <td>0.017958</td>\n",
       "      <td>0.005943</td>\n",
       "      <td>1.000000</td>\n",
       "      <td>0.329626</td>\n",
       "      <td>0.029363</td>\n",
       "      <td>0.133579</td>\n",
       "      <td>0.127664</td>\n",
       "      <td>0.014669</td>\n",
       "      <td>0.046400</td>\n",
       "      <td>0.064176</td>\n",
       "    </tr>\n",
       "    <tr>\n",
       "      <th>remainder__Pclass</th>\n",
       "      <td>0.020125</td>\n",
       "      <td>0.092452</td>\n",
       "      <td>0.014644</td>\n",
       "      <td>0.048343</td>\n",
       "      <td>0.329626</td>\n",
       "      <td>1.000000</td>\n",
       "      <td>0.007539</td>\n",
       "      <td>0.046523</td>\n",
       "      <td>0.055869</td>\n",
       "      <td>0.016457</td>\n",
       "      <td>0.009223</td>\n",
       "      <td>0.058243</td>\n",
       "    </tr>\n",
       "    <tr>\n",
       "      <th>remainder__MaleWithGroup</th>\n",
       "      <td>0.304566</td>\n",
       "      <td>0.028693</td>\n",
       "      <td>0.414087</td>\n",
       "      <td>0.083732</td>\n",
       "      <td>0.029363</td>\n",
       "      <td>0.007539</td>\n",
       "      <td>1.000000</td>\n",
       "      <td>0.205786</td>\n",
       "      <td>0.069862</td>\n",
       "      <td>0.125978</td>\n",
       "      <td>0.073604</td>\n",
       "      <td>0.086239</td>\n",
       "    </tr>\n",
       "    <tr>\n",
       "      <th>remainder__FemaleWithGroup</th>\n",
       "      <td>0.393896</td>\n",
       "      <td>0.013341</td>\n",
       "      <td>0.519720</td>\n",
       "      <td>0.033779</td>\n",
       "      <td>0.133579</td>\n",
       "      <td>0.046523</td>\n",
       "      <td>0.205786</td>\n",
       "      <td>1.000000</td>\n",
       "      <td>0.046465</td>\n",
       "      <td>0.042163</td>\n",
       "      <td>0.073130</td>\n",
       "      <td>0.155654</td>\n",
       "    </tr>\n",
       "    <tr>\n",
       "      <th>remainder__FamilySurvived</th>\n",
       "      <td>0.094337</td>\n",
       "      <td>0.014787</td>\n",
       "      <td>0.046314</td>\n",
       "      <td>0.059880</td>\n",
       "      <td>0.127664</td>\n",
       "      <td>0.055869</td>\n",
       "      <td>0.069862</td>\n",
       "      <td>0.046465</td>\n",
       "      <td>1.000000</td>\n",
       "      <td>0.113054</td>\n",
       "      <td>0.378928</td>\n",
       "      <td>0.065886</td>\n",
       "    </tr>\n",
       "    <tr>\n",
       "      <th>remainder__YoungWithGroup</th>\n",
       "      <td>0.146841</td>\n",
       "      <td>0.003013</td>\n",
       "      <td>0.009539</td>\n",
       "      <td>0.216588</td>\n",
       "      <td>0.014669</td>\n",
       "      <td>0.016457</td>\n",
       "      <td>0.125978</td>\n",
       "      <td>0.042163</td>\n",
       "      <td>0.113054</td>\n",
       "      <td>1.000000</td>\n",
       "      <td>0.182970</td>\n",
       "      <td>0.012938</td>\n",
       "    </tr>\n",
       "    <tr>\n",
       "      <th>remainder__IsAlone</th>\n",
       "      <td>0.129778</td>\n",
       "      <td>0.009663</td>\n",
       "      <td>0.070801</td>\n",
       "      <td>0.057825</td>\n",
       "      <td>0.046400</td>\n",
       "      <td>0.009223</td>\n",
       "      <td>0.073604</td>\n",
       "      <td>0.073130</td>\n",
       "      <td>0.378928</td>\n",
       "      <td>0.182970</td>\n",
       "      <td>1.000000</td>\n",
       "      <td>0.030648</td>\n",
       "    </tr>\n",
       "    <tr>\n",
       "      <th>Survived</th>\n",
       "      <td>0.161269</td>\n",
       "      <td>0.018745</td>\n",
       "      <td>0.232492</td>\n",
       "      <td>0.010006</td>\n",
       "      <td>0.064176</td>\n",
       "      <td>0.058243</td>\n",
       "      <td>0.086239</td>\n",
       "      <td>0.155654</td>\n",
       "      <td>0.065886</td>\n",
       "      <td>0.012938</td>\n",
       "      <td>0.030648</td>\n",
       "      <td>1.000000</td>\n",
       "    </tr>\n",
       "  </tbody>\n",
       "</table>\n",
       "</div>"
      ],
      "text/plain": [
       "                            cat__Title  cat__Embarked  cat__Sex  age__Age  \\\n",
       "cat__Title                    1.000000       0.018742  0.611018  0.189047   \n",
       "cat__Embarked                 0.018742       1.000000  0.009356  0.009083   \n",
       "cat__Sex                      0.611018       0.009356  1.000000  0.037027   \n",
       "age__Age                      0.189047       0.009083  0.037027  1.000000   \n",
       "fare__Fare                    0.013683       0.033983  0.017958  0.005943   \n",
       "remainder__Pclass             0.020125       0.092452  0.014644  0.048343   \n",
       "remainder__MaleWithGroup      0.304566       0.028693  0.414087  0.083732   \n",
       "remainder__FemaleWithGroup    0.393896       0.013341  0.519720  0.033779   \n",
       "remainder__FamilySurvived     0.094337       0.014787  0.046314  0.059880   \n",
       "remainder__YoungWithGroup     0.146841       0.003013  0.009539  0.216588   \n",
       "remainder__IsAlone            0.129778       0.009663  0.070801  0.057825   \n",
       "Survived                      0.161269       0.018745  0.232492  0.010006   \n",
       "\n",
       "                            fare__Fare  remainder__Pclass  \\\n",
       "cat__Title                    0.013683           0.020125   \n",
       "cat__Embarked                 0.033983           0.092452   \n",
       "cat__Sex                      0.017958           0.014644   \n",
       "age__Age                      0.005943           0.048343   \n",
       "fare__Fare                    1.000000           0.329626   \n",
       "remainder__Pclass             0.329626           1.000000   \n",
       "remainder__MaleWithGroup      0.029363           0.007539   \n",
       "remainder__FemaleWithGroup    0.133579           0.046523   \n",
       "remainder__FamilySurvived     0.127664           0.055869   \n",
       "remainder__YoungWithGroup     0.014669           0.016457   \n",
       "remainder__IsAlone            0.046400           0.009223   \n",
       "Survived                      0.064176           0.058243   \n",
       "\n",
       "                            remainder__MaleWithGroup  \\\n",
       "cat__Title                                  0.304566   \n",
       "cat__Embarked                               0.028693   \n",
       "cat__Sex                                    0.414087   \n",
       "age__Age                                    0.083732   \n",
       "fare__Fare                                  0.029363   \n",
       "remainder__Pclass                           0.007539   \n",
       "remainder__MaleWithGroup                    1.000000   \n",
       "remainder__FemaleWithGroup                  0.205786   \n",
       "remainder__FamilySurvived                   0.069862   \n",
       "remainder__YoungWithGroup                   0.125978   \n",
       "remainder__IsAlone                          0.073604   \n",
       "Survived                                    0.086239   \n",
       "\n",
       "                            remainder__FemaleWithGroup  \\\n",
       "cat__Title                                    0.393896   \n",
       "cat__Embarked                                 0.013341   \n",
       "cat__Sex                                      0.519720   \n",
       "age__Age                                      0.033779   \n",
       "fare__Fare                                    0.133579   \n",
       "remainder__Pclass                             0.046523   \n",
       "remainder__MaleWithGroup                      0.205786   \n",
       "remainder__FemaleWithGroup                    1.000000   \n",
       "remainder__FamilySurvived                     0.046465   \n",
       "remainder__YoungWithGroup                     0.042163   \n",
       "remainder__IsAlone                            0.073130   \n",
       "Survived                                      0.155654   \n",
       "\n",
       "                            remainder__FamilySurvived  \\\n",
       "cat__Title                                   0.094337   \n",
       "cat__Embarked                                0.014787   \n",
       "cat__Sex                                     0.046314   \n",
       "age__Age                                     0.059880   \n",
       "fare__Fare                                   0.127664   \n",
       "remainder__Pclass                            0.055869   \n",
       "remainder__MaleWithGroup                     0.069862   \n",
       "remainder__FemaleWithGroup                   0.046465   \n",
       "remainder__FamilySurvived                    1.000000   \n",
       "remainder__YoungWithGroup                    0.113054   \n",
       "remainder__IsAlone                           0.378928   \n",
       "Survived                                     0.065886   \n",
       "\n",
       "                            remainder__YoungWithGroup  remainder__IsAlone  \\\n",
       "cat__Title                                   0.146841            0.129778   \n",
       "cat__Embarked                                0.003013            0.009663   \n",
       "cat__Sex                                     0.009539            0.070801   \n",
       "age__Age                                     0.216588            0.057825   \n",
       "fare__Fare                                   0.014669            0.046400   \n",
       "remainder__Pclass                            0.016457            0.009223   \n",
       "remainder__MaleWithGroup                     0.125978            0.073604   \n",
       "remainder__FemaleWithGroup                   0.042163            0.073130   \n",
       "remainder__FamilySurvived                    0.113054            0.378928   \n",
       "remainder__YoungWithGroup                    1.000000            0.182970   \n",
       "remainder__IsAlone                           0.182970            1.000000   \n",
       "Survived                                     0.012938            0.030648   \n",
       "\n",
       "                            Survived  \n",
       "cat__Title                  0.161269  \n",
       "cat__Embarked               0.018745  \n",
       "cat__Sex                    0.232492  \n",
       "age__Age                    0.010006  \n",
       "fare__Fare                  0.064176  \n",
       "remainder__Pclass           0.058243  \n",
       "remainder__MaleWithGroup    0.086239  \n",
       "remainder__FemaleWithGroup  0.155654  \n",
       "remainder__FamilySurvived   0.065886  \n",
       "remainder__YoungWithGroup   0.012938  \n",
       "remainder__IsAlone          0.030648  \n",
       "Survived                    1.000000  "
      ]
     },
     "execution_count": 363,
     "metadata": {},
     "output_type": "execute_result"
    }
   ],
   "source": [
    "corr"
   ]
  },
  {
   "cell_type": "code",
   "execution_count": null,
   "id": "4dab2d00",
   "metadata": {},
   "outputs": [],
   "source": []
  }
 ],
 "metadata": {
  "kernelspec": {
   "display_name": "Python 3 (ipykernel)",
   "language": "python",
   "name": "python3"
  },
  "language_info": {
   "codemirror_mode": {
    "name": "ipython",
    "version": 3
   },
   "file_extension": ".py",
   "mimetype": "text/x-python",
   "name": "python",
   "nbconvert_exporter": "python",
   "pygments_lexer": "ipython3",
   "version": "3.8.13"
  }
 },
 "nbformat": 4,
 "nbformat_minor": 5
}
